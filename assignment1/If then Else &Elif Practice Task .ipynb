{
 "cells": [
  {
   "cell_type": "code",
   "execution_count": 1,
   "metadata": {},
   "outputs": [
    {
     "name": "stdout",
     "output_type": "stream",
     "text": [
      "Congratulation, you are eligible for a 5% bonus\n",
      "Net bonus amount Rs.250.0\n"
     ]
    }
   ],
   "source": [
    "Salary = int(input(\"Enter your Salary: \"))\n",
    "Years_of_Service = int(input(\"Enter your years of service: \"))\n",
    "\n",
    "if Years_of_Service >5:\n",
    "     bonus_percentage =5\n",
    "     bonus_amount= (bonus_percentage / 100)* Salary\n",
    "\n",
    "     print(f\"Congratulation, you are eligible for a {bonus_percentage}% bonus\")\n",
    "     print(f\"Net bonus amount Rs.{bonus_amount}\")\n",
    "else:\n",
    "     print(\"Sorry, you are not eligible for bonus.\")"
   ]
  },
  {
   "cell_type": "code",
   "execution_count": 1,
   "metadata": {},
   "outputs": [
    {
     "name": "stdout",
     "output_type": "stream",
     "text": [
      "you are eligible for voting:\n"
     ]
    }
   ],
   "source": [
    "age = int(input(\"Enter your age: \"))\n",
    "\n",
    "if age > 17 :\n",
    "    print(\"you are eligible for voting:\")\n",
    "else: \n",
    "    print(\"you are not eligible for voting:\")\n"
   ]
  },
  {
   "cell_type": "code",
   "execution_count": 3,
   "metadata": {},
   "outputs": [
    {
     "name": "stdout",
     "output_type": "stream",
     "text": [
      "The number 6 is even\n"
     ]
    }
   ],
   "source": [
    "number = int(input(\"enter number\"))\n",
    "\n",
    "if number % 2 == 0 :\n",
    "    print(f\"The number {number} is even\")\n",
    "else:\n",
    "    print(f\"The number {number} is odd\")"
   ]
  },
  {
   "cell_type": "code",
   "execution_count": 4,
   "metadata": {},
   "outputs": [
    {
     "name": "stdout",
     "output_type": "stream",
     "text": [
      "The number 5 is odd\n"
     ]
    }
   ],
   "source": [
    "number = int(input(\"enter number\"))\n",
    "\n",
    "if number % 2 == 0 :\n",
    "    print(f\"The number {number} is even\")\n",
    "else:\n",
    "    print(f\"The number {number} is odd\")"
   ]
  },
  {
   "cell_type": "code",
   "execution_count": 5,
   "metadata": {},
   "outputs": [
    {
     "name": "stdout",
     "output_type": "stream",
     "text": [
      "The number 15 is not divisible by 7\n"
     ]
    }
   ],
   "source": [
    "number = int(input(\"enter number\"))\n",
    "\n",
    "if number % 7 == 0 :\n",
    "    print(f\"The number {number} is diviasile by 7\")\n",
    "else:\n",
    "    print(f\"The number {number} is not divisible by 7\")"
   ]
  },
  {
   "cell_type": "code",
   "execution_count": 6,
   "metadata": {},
   "outputs": [
    {
     "name": "stdout",
     "output_type": "stream",
     "text": [
      "The number 14 is diviasile by 7\n"
     ]
    }
   ],
   "source": [
    "number = int(input(\"enter number\"))\n",
    "\n",
    "if number % 7 == 0 :\n",
    "    print(f\"The number {number} is diviasile by 7\")\n",
    "else:\n",
    "    print(f\"The number {number} is not divisible by 7\")"
   ]
  },
  {
   "cell_type": "code",
   "execution_count": 7,
   "metadata": {},
   "outputs": [
    {
     "name": "stdout",
     "output_type": "stream",
     "text": [
      "Hello\n"
     ]
    }
   ],
   "source": [
    "number = int(input(\"enter number\"))\n",
    "\n",
    "if number % 5 == 0:\n",
    "    print(\"Hello\")\n",
    "else:\n",
    "    print(\"Bye\")"
   ]
  },
  {
   "cell_type": "code",
   "execution_count": 52,
   "metadata": {},
   "outputs": [
    {
     "name": "stdout",
     "output_type": "stream",
     "text": [
      "The last digit of a number 52 is 2.\n"
     ]
    }
   ],
   "source": [
    "number = int(input(\"Enter number: \"))\n",
    "\n",
    "last_digit = number % 10\n",
    "print(f\"The last digit of a number {number} is {last_digit}.\")"
   ]
  },
  {
   "cell_type": "code",
   "execution_count": 56,
   "metadata": {},
   "outputs": [
    {
     "name": "stdout",
     "output_type": "stream",
     "text": [
      "The last digit of number (53) is (3) and it is divisible by 3\n"
     ]
    }
   ],
   "source": [
    "number=int(input(\"enter number: \"))\n",
    "\n",
    "last_digit = number % 10 \n",
    "\n",
    "if last_digit % 3 == 0:\n",
    "    print(f\"The last digit of number ({number}) is ({last_digit}) and it is divisible by 3\")\n",
    "else:\n",
    "    print(f\"The last digit of number ({number}) is ({last_digit}) and it is  not divisible by 3\")"
   ]
  },
  {
   "cell_type": "code",
   "execution_count": 57,
   "metadata": {},
   "outputs": [
    {
     "name": "stdout",
     "output_type": "stream",
     "text": [
      "The last digit of number (54) is (4) and it is  not divisible by 3\n"
     ]
    }
   ],
   "source": [
    "number=int(input(\"enter number: \"))\n",
    "\n",
    "last_digit = number % 10 \n",
    "\n",
    "if last_digit % 3 == 0:\n",
    "    print(f\"The last digit of number ({number}) is ({last_digit}) and it is divisible by 3\")\n",
    "else:\n",
    "   print(f\"The last digit of number ({number}) is ({last_digit}) and it is  not divisible by 3\")"
   ]
  },
  {
   "cell_type": "code",
   "execution_count": 11,
   "metadata": {},
   "outputs": [
    {
     "name": "stdout",
     "output_type": "stream",
     "text": [
      "It is square\n"
     ]
    }
   ],
   "source": [
    "length = float(input(\"enter length:\"))\n",
    "breadth = float(input(\"enter breadth:\"))\n",
    "\n",
    "if length == breadth : \n",
    "    print(\"It is square\")\n",
    "else:\n",
    "    print(\"It is rectangle\")"
   ]
  },
  {
   "cell_type": "code",
   "execution_count": 12,
   "metadata": {},
   "outputs": [
    {
     "name": "stdout",
     "output_type": "stream",
     "text": [
      "It is rectangle\n"
     ]
    }
   ],
   "source": [
    "length = float(input(\"enter length:\"))\n",
    "breadth = float(input(\"enter breadth:\"))\n",
    "\n",
    "if length == breadth : \n",
    "    print(\"It is square\")\n",
    "else:\n",
    "    print(\"It is rectangle\")"
   ]
  },
  {
   "cell_type": "code",
   "execution_count": 59,
   "metadata": {},
   "outputs": [
    {
     "name": "stdout",
     "output_type": "stream",
     "text": [
      "The greatest number is 21\n"
     ]
    }
   ],
   "source": [
    "num1 = int(input(\"enter first number: \"))\n",
    "num2= int(input(\"enter second number: \"))\n",
    "\n",
    "if num1 > num2:\n",
    "    print(f\"The greatest number is {num1}\")\n",
    "elif num2 > num1:\n",
    "    print(f\"The greatest number is {num2}\")"
   ]
  },
  {
   "cell_type": "code",
   "execution_count": 65,
   "metadata": {},
   "outputs": [
    {
     "name": "stdout",
     "output_type": "stream",
     "text": [
      "Discount Applied! total cost after 10% discount is Rs.990.0\n"
     ]
    }
   ],
   "source": [
    "quantity = int(input(\"enter quantity: \"))\n",
    "\n",
    "unit_cost = 100\n",
    "total_cost = quantity * unit_cost\n",
    "\n",
    "if total_cost > 1000:\n",
    "    discount = 0.10 * total_cost\n",
    "    total_cost -= discount\n",
    "    print(f\"Discount Applied! total cost after 10% discount is Rs.{total_cost}\")\n",
    "else:\n",
    "    print(f\"total cost: Rs.{total_cost}\")"
   ]
  },
  {
   "cell_type": "code",
   "execution_count": 12,
   "metadata": {},
   "outputs": [
    {
     "name": "stdout",
     "output_type": "stream",
     "text": [
      "Grade A\n"
     ]
    }
   ],
   "source": [
    "marks = int(input(\"enter marks:\"))\n",
    "\n",
    "if marks < 25:\n",
    "    grade = 'F'\n",
    "elif 25 <= marks < 45:\n",
    "    grade = 'E'\n",
    "elif 45 <= marks < 50:\n",
    "    grade = 'D'\n",
    "elif 50 <= marks < 60:\n",
    "    grade = 'C'\n",
    "elif 60 <= marks < 80:\n",
    "    grade = 'B'\n",
    "else: \n",
    "    grade = 'A'\n",
    "    print(f\"Grade {grade}\")"
   ]
  },
  {
   "cell_type": "code",
   "execution_count": 13,
   "metadata": {},
   "outputs": [
    {
     "name": "stdout",
     "output_type": "stream",
     "text": [
      "percentage of classes attended 87.5%\n",
      "student is allowed to sit in exam.\n"
     ]
    }
   ],
   "source": [
    "classes_held = int(input(\"enter the number of classes held:\"))\n",
    "classes_attended = int(input(\"enter the number of classes attended:\"))\n",
    "\n",
    "attendance_percentage = (classes_attended / classes_held) * 100\n",
    "\n",
    "if attendance_percentage >= 75 :\n",
    "    print(f\"percentage of classes attended {attendance_percentage}%\")\n",
    "    print(f\"student is allowed to sit in exam.\")\n",
    "else:\n",
    "    print(f\"percentage of classes attended {attendance_percentage}%\")\n",
    "    print(f\"student is not allowed to sit in exam.\")"
   ]
  },
  {
   "cell_type": "code",
   "execution_count": 12,
   "metadata": {},
   "outputs": [
    {
     "name": "stdout",
     "output_type": "stream",
     "text": [
      "percentage of classes attended 70.0%\n",
      "student is allowed to sit in exam.\n"
     ]
    }
   ],
   "source": [
    "classes_held = int(input(\"enter the number of classes held:\"))\n",
    "classes_attended = int(input(\"enter the number of classes attended:\"))\n",
    "medical_cause = input(\"Do you have medical cause? (Enter 'Y'):\")\n",
    "\n",
    "\n",
    "attendance_percentage = (classes_attended / classes_held) * 100\n",
    "\n",
    "if attendance_percentage >= 75 or medical_cause == 'Y':\n",
    "    print(f\"percentage of classes attended {attendance_percentage}%\")\n",
    "    print(f\"student is allowed to sit in exam.\")\n",
    "\n",
    "else:\n",
    "    print(f\"percentage of classes attended {attendance_percentage}%\")\n",
    "    print(f\"student is not allowed to sit in exam due to low attendance.\")\n"
   ]
  },
  {
   "cell_type": "code",
   "execution_count": 19,
   "metadata": {},
   "outputs": [
    {
     "name": "stdout",
     "output_type": "stream",
     "text": [
      "2024 is a leap year.\n"
     ]
    }
   ],
   "source": [
    "year = int(input(\"enter a year: \"))\n",
    "\n",
    "if (year % 4 == 0 and year % 100 != 0) or (year % 400 == 0):\n",
    "    print(f\"{year} is a leap year.\")\n",
    "else:\n",
    "    print(f\"{year} is not a leap year.\")"
   ]
  },
  {
   "cell_type": "code",
   "execution_count": 21,
   "metadata": {},
   "outputs": [
    {
     "name": "stdout",
     "output_type": "stream",
     "text": [
      "you may work anywhere\n"
     ]
    }
   ],
   "source": [
    "age = int(input(\"enter age: \"))\n",
    "gender = input(\"enter your gender (M or F ): \")\n",
    "marital_status = input(\"are u married? (Y or N): \")\n",
    "\n",
    "if gender == 'F' :\n",
    "    print(f\"you will work only in urban areas.\")\n",
    "elif gender == 'M'and 20 <= age <40 :\n",
    "    print(f\"you may work anywhere\")\n",
    "elif gender == 'M' and 40 <= age <60 :\n",
    "    print(f\"you will work in urban areas only.\")\n",
    "else:\n",
    "    print(\"Error\")"
   ]
  },
  {
   "cell_type": "code",
   "execution_count": 50,
   "metadata": {},
   "outputs": [
    {
     "name": "stdout",
     "output_type": "stream",
     "text": [
      "The total amount of bill is Rs.750.\n"
     ]
    }
   ],
   "source": [
    "units = int(input(\"enter units: \"))\n",
    "\n",
    "\n",
    "if units <= 100:\n",
    "    bill_amount = 0\n",
    "    print(f\"The total amount of bill is Rs.{bill_amount}.\")\n",
    "elif  units <= 200 :\n",
    "    bill_amount = units * 5\n",
    "    print(f\"The total amount of bill is Rs.{bill_amount}.\")\n",
    "elif units > 300 :\n",
    "    bill_amount = units * 10\n",
    "    print(f\"The total amount of bill is Rs.{bill_amount}.\")"
   ]
  },
  {
   "cell_type": "code",
   "execution_count": 66,
   "metadata": {},
   "outputs": [
    {
     "name": "stdout",
     "output_type": "stream",
     "text": [
      "The oldest person is 50 years old.\n",
      "The youngest person is 20 years old.\n"
     ]
    }
   ],
   "source": [
    "age1 = int(input(\"Enter the age of person 1: \"))\n",
    "age2 = int(input(\"Enter the age of person 2: \"))\n",
    "age3 = int(input(\"Enter the age of person 3: \"))\n",
    "\n",
    "oldest = max(age1, age2, age3)\n",
    "youngest = min(age1, age2, age3)\n",
    "\n",
    "print(f\"The oldest person is {oldest} years old.\")\n",
    "print(f\"The youngest person is {youngest} years old.\")"
   ]
  }
 ],
 "metadata": {
  "kernelspec": {
   "display_name": "assignments",
   "language": "python",
   "name": "python3"
  },
  "language_info": {
   "codemirror_mode": {
    "name": "ipython",
    "version": 3
   },
   "file_extension": ".py",
   "mimetype": "text/x-python",
   "name": "python",
   "nbconvert_exporter": "python",
   "pygments_lexer": "ipython3",
   "version": "3.12.0"
  }
 },
 "nbformat": 4,
 "nbformat_minor": 2
}
